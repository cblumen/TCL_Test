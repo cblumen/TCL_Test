{
 "cells": [
  {
   "cell_type": "code",
   "execution_count": 76,
   "id": "c0aefac2-cd7e-49a3-96c6-c5aa29978905",
   "metadata": {},
   "outputs": [
    {
     "name": "stdout",
     "output_type": "stream",
     "text": [
      "CPU times: total: 0 ns\n",
      "Wall time: 0 ns\n"
     ]
    }
   ],
   "source": [
    "%%time\n",
    "import mpmath\n",
    "from sympy import *\n",
    "from math import factorial\n",
    "from IPython.display import display,Math"
   ]
  },
  {
   "cell_type": "code",
   "execution_count": 77,
   "id": "da2617e4-971c-479d-8fe6-0996db3f812e",
   "metadata": {},
   "outputs": [],
   "source": [
    "sigma1,sigma2,sigma3,sigma4,sigma5,sigma6,sigma7,sigma8 = symbols('Sigma_1 Sigma_2 Sigma_3 Sigma_4 Sigma_5 Sigma_6 Sigma_7 Sigma_8', commutative=False)\n",
    "sigma1T,sigma2T,sigma3T,sigma4T,sigma5T,sigma6T,sigma7T,sigma8T = symbols('Sigma_1^\\dagger Sigma_2^\\dagger Sigma_3^\\dagger Sigma_4^\\dagger Sigma_5^\\dagger Sigma_6^\\dagger Sigma_7^\\dagger Sigma_8^\\dagger',commutative=False)\n",
    "\n",
    "lam = symbols('lambda')\n",
    "\n",
    "\n",
    "sigmaOps = [1,sigma1,sigma2,sigma3,sigma4,sigma5,sigma6,sigma7,sigma8]\n",
    "sigmaOpsT = [1,sigma1T,sigma2T,sigma3T,sigma4T,sigma5T,sigma6,sigma7,sigma8]"
   ]
  },
  {
   "cell_type": "code",
   "execution_count": 78,
   "id": "4a598d23-cb0a-48ba-a59f-8d57e56d3f3d",
   "metadata": {},
   "outputs": [],
   "source": [
    "def printTerms(tlist):\n",
    "    print()\n",
    "    for index,term in enumerate(tlist):\n",
    "        print(f'Lambda {index+2}: ')\n",
    "        display(Math(latex(term)))\n",
    "        print()"
   ]
  },
  {
   "cell_type": "code",
   "execution_count": 79,
   "id": "c0aeaad7-b305-4b80-b9d1-efc98ff3217e",
   "metadata": {},
   "outputs": [],
   "source": [
    "lamList = []\n",
    "\n",
    "def getExpr(n):   \n",
    "    terms_dict = {}\n",
    "    \n",
    "    tLeft = 0\n",
    "    for s in range(1,n-1):\n",
    "        tLeft +=  lam**s * sigmaOpsT[s]\n",
    "    noTRight = 0\n",
    "    for s in range(1,n-1):\n",
    "        noTRight +=  lam**s * sigmaOps[s]\n",
    "\n",
    "    innerProd = tLeft * noTRight\n",
    "\n",
    "    innerSum = 0\n",
    "    for m in range(1,n-1):\n",
    "        innerSum += lam**m * (sigmaOpsT[m] + sigmaOps[m])\n",
    "    innerSum += innerProd\n",
    "\n",
    "    rightSum = 1\n",
    "    for l in range(1,n-1):\n",
    "        rightSum -= lam**l * sigmaOpsT[l]\n",
    "  \n",
    "    expr = 0\n",
    "    for k in range(n-1):\n",
    "        expr += innerSum**k\n",
    "\n",
    "    outerSum = 0 #not part of pinv\n",
    "    for s in range(1,n):\n",
    "        outerSum +=  lam**s * sigmaOps[s]\n",
    "\n",
    "    expr *= rightSum\n",
    "\n",
    "    expr *= outerSum\n",
    "\n",
    "    expr = expand(expr)\n",
    "    print('Expansion done')\n",
    "    # Extract terms\n",
    "    orderedTerms = expr.as_ordered_terms()\n",
    "    for cycle,term in enumerate(orderedTerms):\n",
    "        # Collect terms by the leading var `lam`\n",
    "        coeff, var = term.as_coeff_mul()\n",
    "        # Check if `lam` is part of the term\n",
    "        # Use as_powers_dict to get powers of all symbols in the term\n",
    "        powers_dict = term.as_powers_dict()\n",
    "        \n",
    "        # Check if 'lam' is in the powers_dict and get its power\n",
    "        lam_power = powers_dict.get(lam, 0)\n",
    "        if lam_power < n:\n",
    "            # Store the term in the dictionary with index `lam_power - 1`\n",
    "            if lam_power - 1 in terms_dict:\n",
    "                terms_dict[lam_power - 1] += term\n",
    "            else:\n",
    "                terms_dict[lam_power - 1] = term\n",
    "    print('dict finished')\n",
    "    # Create a list with terms at appropriate indexes\n",
    "    terms_list = [lam * terms_dict.get(i, 0) for i in range(max(terms_dict.keys()) + 1)]\n",
    "    return terms_list\n",
    "        "
   ]
  },
  {
   "cell_type": "markdown",
   "id": "3ce3de05-49bf-4ad5-98fa-94f51f2ad2d4",
   "metadata": {},
   "source": [
    "# Regular TCL Expansion"
   ]
  },
  {
   "cell_type": "code",
   "execution_count": 80,
   "id": "7581e56e-2eab-4a34-85ec-55497f448916",
   "metadata": {},
   "outputs": [],
   "source": [
    "lam2List = []\n",
    "\n",
    "def getExprNormal(n):  \n",
    "    terms_dict = {}\n",
    "    innerSum = 0\n",
    "    for s in range(1,n):\n",
    "        innerSum +=  lam**s * sigmaOps[s]\n",
    "    expr = 0\n",
    "    for k in range(n):\n",
    "        expr += innerSum**k\n",
    "    expr = expand(expr)\n",
    "    print('Expansion done')\n",
    "    # Extract terms\n",
    "    orderedTerms = expr.as_ordered_terms()\n",
    "    for cycle,term in enumerate(orderedTerms):\n",
    "        # Collect terms by the leading factor `lam`\n",
    "        coeff, var = term.as_coeff_mul()\n",
    "        # Check if `lam` is part of the term\n",
    "        # Use as_powers_dict to get powers of all symbols in the term\n",
    "        powers_dict = term.as_powers_dict()\n",
    "        \n",
    "        # Check if 'lam' is in the powers_dict and get its power\n",
    "        lam_power = powers_dict.get(lam, 0)\n",
    "        if lam_power < n:\n",
    "            # Store the term in the dictionary with index `lam_power - 1`\n",
    "            if lam_power - 1 in terms_dict:\n",
    "                terms_dict[lam_power - 1] += term\n",
    "            else:\n",
    "                terms_dict[lam_power - 1] = term\n",
    "    print('dict finished')\n",
    "    # Create a list with terms at appropriate indexes\n",
    "    terms_list = [factor(lam * terms_dict.get(i, 0)) for i in range(max(terms_dict.keys()) + 1)]\n",
    "    return terms_list"
   ]
  },
  {
   "cell_type": "markdown",
   "id": "83e0fbe6-90a0-4073-bbaa-b47418d8d7c5",
   "metadata": {},
   "source": [
    "# Solving for each term"
   ]
  },
  {
   "cell_type": "code",
   "execution_count": 81,
   "id": "b5aae5f1-c58b-4e69-9f56-b714b9bce260",
   "metadata": {},
   "outputs": [],
   "source": [
    "import itertools\n",
    "from collections import OrderedDict\n",
    "from copy import deepcopy"
   ]
  },
  {
   "cell_type": "code",
   "execution_count": 82,
   "id": "8803b665-89d2-4cea-ad3e-1ee9cb67512e",
   "metadata": {
    "scrolled": true
   },
   "outputs": [
    {
     "name": "stdout",
     "output_type": "stream",
     "text": [
      "CPU times: total: 0 ns\n",
      "Wall time: 0 ns\n"
     ]
    }
   ],
   "source": [
    "%%time\n",
    "\n",
    "def sumCombosHelper(n,comboSet,currList,max):\n",
    "    if len(currList) > max:\n",
    "        return\n",
    "    if sum(currList) == n:\n",
    "        sortedList = sorted(currList)\n",
    "        if sortedList not in comboSet:\n",
    "            comboSet.append(sortedList)\n",
    "        return\n",
    "    else:\n",
    "        for i in range(1,n+1):\n",
    "            currList.append(i)   \n",
    "            sumCombosHelper(n,comboSet,currList,max)\n",
    "            currList.pop()\n",
    "            \n",
    "def sumCombos(n,max):\n",
    "    combos = []\n",
    "    sumCombosHelper(n,combos,[],max)\n",
    "    return combos\n",
    "\n",
    "def getIndices(n,s):\n",
    "    iList = [i for i in range(2*(n-2))]\n",
    "\n",
    "    listT = [i for i in range(n)]\n",
    "\n",
    "    for combo in itertools.product(listT, repeat=2):\n",
    "        if combo[0] + combo[1] <= n-2 and 0 not in combo:\n",
    "            iList.append(combo)\n",
    "    \n",
    "    return tuple(itertools.product(iList,repeat=s))\n"
   ]
  },
  {
   "cell_type": "code",
   "execution_count": 83,
   "id": "80727817-fe11-48b6-b7d5-2a6e205cd23d",
   "metadata": {
    "scrolled": true
   },
   "outputs": [],
   "source": [
    "def getTCLPlusTerm(n):\n",
    "    #array of indices\n",
    "    indices = [getIndices(n,i) for i in range(1,n)]\n",
    "    #powers\n",
    "    powerSet = []\n",
    "\n",
    "    if n == 2:\n",
    "        return lam**2*sigma1\n",
    "    \n",
    "    for p in range(n-1):\n",
    "        sumComboList = sumCombos(p,p)\n",
    "        for sum in sumComboList:\n",
    "            #get all index combos of length sum\n",
    "            ind = indices[len(sum)-1]\n",
    "            if p == 0:\n",
    "                ind = indices[0]\n",
    "            for idxCombo in ind:\n",
    "               \n",
    "                powerDict = []\n",
    "                lamTotal=0\n",
    "                #populate the powerDict at all possible indices, do terms inside power\n",
    "                for index,num in enumerate(sum):\n",
    "                    idxTuple = [idxCombo[index],num]\n",
    "                    powerDict.append(idxTuple)\n",
    "                    if isinstance(idxCombo[index],int):\n",
    "                        lamTotal += num * (idxCombo[index] % (n-2) + 1)\n",
    "                    elif isinstance(idxCombo[index],tuple):\n",
    "                        lamTotal += num * (idxCombo[index][0]+idxCombo[index][1])\n",
    "                    \n",
    "                 \n",
    "                #terms outside the power\n",
    "                for i in range(0,n):\n",
    "                    for j in range(1,n):\n",
    "                        #valid combo\n",
    "                        if lamTotal + i + j == n-1:\n",
    "                            pDict = powerDict.copy()\n",
    "                            prev=()\n",
    "                            #removing combos of squares e.g. (0,1),(0,1) vs. (0,2)\n",
    "                            for id in range (len(pDict)-1,0,-1):\n",
    "                                ent = pDict[id][0]\n",
    "                                prev = pDict[id-1][0]\n",
    "                                if ent == prev:\n",
    "                                    pDict[id-1][1]+=pDict[id][1]\n",
    "                                    del pDict[id]\n",
    "\n",
    "                            innerTuple = ('inner',i)\n",
    "                            outerTuple = ('outer',j)\n",
    "                            pDict.append(innerTuple)\n",
    "                            pDict.append(outerTuple)\n",
    "  \n",
    "                            appender = {p: pDict}\n",
    "                            \n",
    "                            if appender not in powerSet:\n",
    "                                powerSet.append(appender)\n",
    "\n",
    "                        elif lamTotal + i + j > n-1:\n",
    "                            break\n",
    "\n",
    "    \n",
    "    pSum = 0       \n",
    "    for termSet in powerSet:       \n",
    "        for power,dictionary in termSet.items():\n",
    "            \n",
    "            pTerm = 1\n",
    "            #coeff = factorial(power)\n",
    "            for key,value in dictionary:\n",
    "                if isinstance(key,int):\n",
    "                    if key < n-2:\n",
    "                        pTerm *= lam**((key%(n-2)+1)*value) * sigmaOps[key+1]**value\n",
    "                    elif n-2 <= key:\n",
    "                        pTerm *= lam**((key % (n-2)+1)*value) * sigmaOpsT[(key % (n-2)+1)]**value\n",
    "                elif isinstance(key,tuple):\n",
    "                    pTerm*=(lam**(key[0]+key[1])*value) * sigmaOpsT[key[0]]**value * sigmaOps[key[1]]**value\n",
    "                    #coeff /= factorial(value)\n",
    "                    \n",
    "                else:\n",
    "                    if key == 'inner':\n",
    "                        pTerm*=lam**value*sigmaOpsT[value]\n",
    "                        if value != 0:\n",
    "                            pTerm *= -1\n",
    "                    if key == 'outer':\n",
    "                        pTerm*=lam**value*sigmaOps[value]\n",
    "            pSum += expand(pTerm) #*coeff\n",
    "                \n",
    "    ordered_terms = pSum.as_ordered_terms()\n",
    "    terms_dict = {}\n",
    "    for cycle,term in enumerate(ordered_terms):\n",
    "\n",
    "        # Collect terms by the leading factor `lam`\n",
    "        coeff, var = term.as_coeff_mul()\n",
    "        # Check if `lam` is part of the term\n",
    "        # Use as_powers_dict to get powers of all symbols in the term\n",
    "        powers_dict = term.as_powers_dict()\n",
    "        \n",
    "        # Check if 'lam' is in the powers_dict and get its power\n",
    "        lam_power = powers_dict.get(lam, 0)\n",
    "        if lam_power < n:\n",
    "            # Store the term in the dictionary with index `lam_power - 1`\n",
    "            if lam_power - 1 in terms_dict:\n",
    "                terms_dict[lam_power - 1] += term\n",
    "            else:\n",
    "                terms_dict[lam_power - 1] = term\n",
    "    print('dict finished')\n",
    "    # Create a list with terms at appropriate indexes\n",
    "    term = factor(lam * terms_dict.get(n-2, 0)) \n",
    "    return term\n",
    "\n",
    "\n",
    "def createPlusList(n):\n",
    "    termList = []\n",
    "    for i in range(2,n+1):\n",
    "        termList.append(getTCLPlusTerm(i))\n",
    "    return termList\n",
    "                \n",
    "                            \n",
    "\n",
    "            \n",
    "             "
   ]
  },
  {
   "cell_type": "code",
   "execution_count": 84,
   "id": "436c023a-3cc5-48ba-b7ae-82463810ac15",
   "metadata": {},
   "outputs": [],
   "source": [
    "def getDiff(n):\n",
    "    dList = []\n",
    "    reg = getExprNormal(n)\n",
    "    plus = createPlusList(n)\n",
    "    for i in range(n-1):\n",
    "        dList.append(simplify(plus[i] - reg[i]))\n",
    "    return dList"
   ]
  },
  {
   "cell_type": "code",
   "execution_count": 85,
   "id": "1dc4d4b8-dff4-4d4c-8601-9d7d19bd58f9",
   "metadata": {},
   "outputs": [
    {
     "name": "stdout",
     "output_type": "stream",
     "text": [
      "dict finished\n",
      "dict finished\n",
      "dict finished\n",
      "dict finished\n",
      "\n",
      "Lambda 2: \n"
     ]
    },
    {
     "data": {
      "text/latex": [
       "$\\displaystyle \\lambda^{2} \\Sigma_{1}$"
      ],
      "text/plain": [
       "<IPython.core.display.Math object>"
      ]
     },
     "metadata": {},
     "output_type": "display_data"
    },
    {
     "name": "stdout",
     "output_type": "stream",
     "text": [
      "\n",
      "Lambda 3: \n"
     ]
    },
    {
     "data": {
      "text/latex": [
       "$\\displaystyle \\lambda^{3} \\left(\\Sigma_{1}^{2} + \\Sigma_{2}\\right)$"
      ],
      "text/plain": [
       "<IPython.core.display.Math object>"
      ]
     },
     "metadata": {},
     "output_type": "display_data"
    },
    {
     "name": "stdout",
     "output_type": "stream",
     "text": [
      "\n",
      "Lambda 4: \n"
     ]
    },
    {
     "data": {
      "text/latex": [
       "$\\displaystyle \\lambda^{4} \\left(\\Sigma_{1} \\Sigma_{2} + \\Sigma_{1}^{3} + 2 \\Sigma^{\\dagger}_{1} \\Sigma_{1}^{2} + \\Sigma_{2} \\Sigma_{1} + \\Sigma_{3}\\right)$"
      ],
      "text/plain": [
       "<IPython.core.display.Math object>"
      ]
     },
     "metadata": {},
     "output_type": "display_data"
    },
    {
     "name": "stdout",
     "output_type": "stream",
     "text": [
      "\n",
      "Lambda 5: \n"
     ]
    },
    {
     "data": {
      "text/latex": [
       "$\\displaystyle \\lambda^{5} \\cdot \\left(2 \\Sigma_{1} \\Sigma^{\\dagger}_{1} \\Sigma_{1}^{2} + \\Sigma_{1} \\Sigma_{2} \\Sigma_{1} + \\Sigma_{1} \\Sigma_{3} + \\Sigma_{1}^{2} \\Sigma_{2} + \\Sigma_{1}^{4} + 2 \\Sigma^{\\dagger}_{1} \\Sigma_{1} \\Sigma_{2} + 2 \\Sigma^{\\dagger}_{1} \\Sigma_{1}^{3} + 2 \\Sigma^{\\dagger}_{1} \\Sigma_{2} \\Sigma_{1} + 2 \\left(\\Sigma^{\\dagger}_{1}\\right)^{2} \\Sigma_{1}^{2} + \\Sigma_{2} \\Sigma_{1}^{2} + \\Sigma_{2}^{2} + 2 \\Sigma^{\\dagger}_{2} \\Sigma_{1}^{2} + \\Sigma_{3} \\Sigma_{1} + \\Sigma_{4}\\right)$"
      ],
      "text/plain": [
       "<IPython.core.display.Math object>"
      ]
     },
     "metadata": {},
     "output_type": "display_data"
    },
    {
     "name": "stdout",
     "output_type": "stream",
     "text": [
      "\n",
      "Lambda 6: \n"
     ]
    },
    {
     "data": {
      "text/latex": [
       "$\\displaystyle \\lambda^{6} \\cdot \\left(2 \\Sigma_{1} \\Sigma^{\\dagger}_{1} \\Sigma_{1} \\Sigma_{2} + 2 \\Sigma_{1} \\Sigma^{\\dagger}_{1} \\Sigma_{1}^{3} + 2 \\Sigma_{1} \\Sigma^{\\dagger}_{1} \\Sigma_{2} \\Sigma_{1} + 2 \\Sigma_{1} \\left(\\Sigma^{\\dagger}_{1}\\right)^{2} \\Sigma_{1}^{2} + \\Sigma_{1} \\Sigma_{2} \\Sigma_{1}^{2} + \\Sigma_{1} \\Sigma_{2}^{2} + 2 \\Sigma_{1} \\Sigma^{\\dagger}_{2} \\Sigma_{1}^{2} + \\Sigma_{1} \\Sigma_{3} \\Sigma_{1} + \\Sigma_{1} \\Sigma_{4} + 2 \\Sigma_{1}^{2} \\Sigma^{\\dagger}_{1} \\Sigma_{1}^{2} - \\Sigma_{1}^{2} \\Sigma^{\\dagger}_{1} \\Sigma_{2} + \\Sigma_{1}^{2} \\left(\\Sigma^{\\dagger}_{1}\\right)^{2} \\Sigma_{1} + \\Sigma_{1}^{2} \\Sigma_{2} \\Sigma_{1} + \\Sigma_{1}^{2} \\Sigma_{3} + \\Sigma_{1}^{3} \\Sigma_{2} + \\Sigma_{1}^{5} + 3 \\Sigma^{\\dagger}_{1} \\Sigma_{1} \\Sigma^{\\dagger}_{1} \\Sigma_{1}^{2} + 2 \\Sigma^{\\dagger}_{1} \\Sigma_{1} \\Sigma_{2} \\Sigma_{1} + 2 \\Sigma^{\\dagger}_{1} \\Sigma_{1} \\Sigma_{3} + 2 \\Sigma^{\\dagger}_{1} \\Sigma_{1}^{2} \\Sigma_{2} + 2 \\Sigma^{\\dagger}_{1} \\Sigma_{1}^{4} + 2 \\Sigma^{\\dagger}_{1} \\Sigma_{2} \\Sigma_{1}^{2} + 2 \\Sigma^{\\dagger}_{1} \\Sigma_{2}^{2} + 2 \\Sigma^{\\dagger}_{1} \\Sigma^{\\dagger}_{2} \\Sigma_{1}^{2} + 2 \\Sigma^{\\dagger}_{1} \\Sigma_{3} \\Sigma_{1} + \\left(\\Sigma^{\\dagger}_{1}\\right)^{2} \\Sigma_{1} \\Sigma^{\\dagger}_{1} \\Sigma_{1} + \\left(\\Sigma^{\\dagger}_{1}\\right)^{2} \\Sigma_{1} \\Sigma_{2} + 2 \\left(\\Sigma^{\\dagger}_{1}\\right)^{2} \\Sigma_{1}^{3} + 2 \\left(\\Sigma^{\\dagger}_{1}\\right)^{2} \\Sigma_{2} \\Sigma_{1} + 2 \\left(\\Sigma^{\\dagger}_{1}\\right)^{3} \\Sigma_{1}^{2} + \\Sigma_{2} \\Sigma_{1} \\Sigma_{2} + \\Sigma_{2} \\Sigma_{1}^{3} + 2 \\Sigma_{2} \\Sigma^{\\dagger}_{1} \\Sigma_{1}^{2} + \\Sigma_{2} \\Sigma_{3} + \\Sigma_{2}^{2} \\Sigma_{1} + 2 \\Sigma^{\\dagger}_{2} \\Sigma_{1} \\Sigma_{2} + 2 \\Sigma^{\\dagger}_{2} \\Sigma_{1}^{3} + 2 \\Sigma^{\\dagger}_{2} \\Sigma^{\\dagger}_{1} \\Sigma_{1}^{2} + 2 \\Sigma^{\\dagger}_{2} \\Sigma_{2} \\Sigma_{1} + \\Sigma_{3} \\Sigma_{1}^{2} + \\Sigma_{3} \\Sigma_{2} + 2 \\Sigma^{\\dagger}_{3} \\Sigma_{1}^{2} + \\Sigma_{4} \\Sigma_{1} + \\Sigma_{5}\\right)$"
      ],
      "text/plain": [
       "<IPython.core.display.Math object>"
      ]
     },
     "metadata": {},
     "output_type": "display_data"
    },
    {
     "name": "stdout",
     "output_type": "stream",
     "text": [
      "\n",
      "CPU times: total: 1 s\n",
      "Wall time: 1.82 s\n"
     ]
    }
   ],
   "source": [
    "%%time\n",
    "printTerms(createPlusList(6))"
   ]
  },
  {
   "cell_type": "markdown",
   "id": "6d0d2309-7cb9-4811-9e33-439ebf1908a3",
   "metadata": {},
   "source": [
    "# Getting T Terms"
   ]
  },
  {
   "cell_type": "code",
   "execution_count": null,
   "id": "a182064f-e3ff-44c3-a8f2-55bd08c2e82c",
   "metadata": {},
   "outputs": [
    {
     "name": "stdout",
     "output_type": "stream",
     "text": [
      "Expansion done\n",
      "dict finished\n",
      "dict finished\n",
      "dict finished\n",
      "dict finished\n",
      "dict finished\n",
      "dict finished\n"
     ]
    }
   ],
   "source": [
    "%%time\n",
    "printTerms(getDiff(8))"
   ]
  },
  {
   "cell_type": "code",
   "execution_count": null,
   "id": "97e11eaa-e5dc-4cd8-83da-a39295ea298e",
   "metadata": {},
   "outputs": [],
   "source": []
  }
 ],
 "metadata": {
  "kernelspec": {
   "display_name": "Python 3 (ipykernel)",
   "language": "python",
   "name": "python3"
  },
  "language_info": {
   "codemirror_mode": {
    "name": "ipython",
    "version": 3
   },
   "file_extension": ".py",
   "mimetype": "text/x-python",
   "name": "python",
   "nbconvert_exporter": "python",
   "pygments_lexer": "ipython3",
   "version": "3.11.5"
  }
 },
 "nbformat": 4,
 "nbformat_minor": 5
}
